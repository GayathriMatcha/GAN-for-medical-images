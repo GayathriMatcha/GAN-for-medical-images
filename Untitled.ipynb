{
 "cells": [
  {
   "cell_type": "code",
   "execution_count": 1,
   "id": "ad9e5863",
   "metadata": {},
   "outputs": [
    {
     "name": "stdout",
     "output_type": "stream",
     "text": [
      "Collecting voila\n",
      "  Using cached voila-0.3.5-py3-none-any.whl (1.7 MB)\n",
      "Collecting websockets>=9.0\n",
      "  Using cached websockets-10.3-cp38-cp38-manylinux_2_5_x86_64.manylinux1_x86_64.manylinux_2_12_x86_64.manylinux2010_x86_64.whl (111 kB)\n",
      "Requirement already satisfied: traitlets<6,>=5.0.3 in /home/gayathri/torchmri/lib/python3.8/site-packages (from voila) (5.2.1.post0)\n",
      "Collecting jupyter-server<2.0.0,>=0.3.0\n",
      "  Using cached jupyter_server-1.18.1-py3-none-any.whl (344 kB)\n",
      "Requirement already satisfied: nbconvert<7,>=6.4.5 in /home/gayathri/torchmri/lib/python3.8/site-packages (from voila) (6.5.0)\n",
      "Collecting nbclient<0.6,>=0.4.0\n",
      "  Using cached nbclient-0.5.13-py3-none-any.whl (70 kB)\n",
      "Collecting jupyterlab-server<3,>=2.3.0\n",
      "  Using cached jupyterlab_server-2.15.0-py3-none-any.whl (54 kB)\n",
      "Requirement already satisfied: jupyter-client<8,>=6.1.3 in /home/gayathri/torchmri/lib/python3.8/site-packages (from voila) (7.3.1)\n",
      "Requirement already satisfied: packaging in /home/gayathri/torchmri/lib/python3.8/site-packages (from jupyter-server<2.0.0,>=0.3.0->voila) (21.3)\n",
      "Requirement already satisfied: argon2-cffi in /home/gayathri/torchmri/lib/python3.8/site-packages (from jupyter-server<2.0.0,>=0.3.0->voila) (21.3.0)\n",
      "Collecting websocket-client\n",
      "  Using cached websocket_client-1.3.3-py3-none-any.whl (54 kB)\n",
      "Requirement already satisfied: Send2Trash in /home/gayathri/torchmri/lib/python3.8/site-packages (from jupyter-server<2.0.0,>=0.3.0->voila) (1.8.0)\n",
      "Requirement already satisfied: nbformat>=5.2.0 in /home/gayathri/torchmri/lib/python3.8/site-packages (from jupyter-server<2.0.0,>=0.3.0->voila) (5.4.0)\n",
      "Collecting anyio<4,>=3.1.0\n",
      "  Using cached anyio-3.6.1-py3-none-any.whl (80 kB)\n",
      "Requirement already satisfied: prometheus-client in /home/gayathri/torchmri/lib/python3.8/site-packages (from jupyter-server<2.0.0,>=0.3.0->voila) (0.14.1)\n",
      "Requirement already satisfied: tornado>=6.1.0 in /home/gayathri/torchmri/lib/python3.8/site-packages (from jupyter-server<2.0.0,>=0.3.0->voila) (6.1)\n",
      "Requirement already satisfied: jinja2 in /home/gayathri/torchmri/lib/python3.8/site-packages (from jupyter-server<2.0.0,>=0.3.0->voila) (3.1.2)\n",
      "Requirement already satisfied: terminado>=0.8.3 in /home/gayathri/torchmri/lib/python3.8/site-packages (from jupyter-server<2.0.0,>=0.3.0->voila) (0.15.0)\n",
      "Requirement already satisfied: pyzmq>=17 in /home/gayathri/torchmri/lib/python3.8/site-packages (from jupyter-server<2.0.0,>=0.3.0->voila) (22.3.0)\n",
      "Requirement already satisfied: jupyter-core>=4.7.0 in /home/gayathri/torchmri/lib/python3.8/site-packages (from jupyter-server<2.0.0,>=0.3.0->voila) (4.10.0)\n",
      "Requirement already satisfied: jupyterlab-pygments in /home/gayathri/torchmri/lib/python3.8/site-packages (from nbconvert<7,>=6.4.5->voila) (0.2.2)\n",
      "Requirement already satisfied: pandocfilters>=1.4.1 in /home/gayathri/torchmri/lib/python3.8/site-packages (from nbconvert<7,>=6.4.5->voila) (1.5.0)\n",
      "Requirement already satisfied: entrypoints>=0.2.2 in /home/gayathri/torchmri/lib/python3.8/site-packages (from nbconvert<7,>=6.4.5->voila) (0.4)\n",
      "Requirement already satisfied: tinycss2 in /home/gayathri/torchmri/lib/python3.8/site-packages (from nbconvert<7,>=6.4.5->voila) (1.1.1)\n",
      "Requirement already satisfied: beautifulsoup4 in /home/gayathri/torchmri/lib/python3.8/site-packages (from nbconvert<7,>=6.4.5->voila) (4.11.1)\n",
      "Requirement already satisfied: pygments>=2.4.1 in /home/gayathri/torchmri/lib/python3.8/site-packages (from nbconvert<7,>=6.4.5->voila) (2.12.0)\n",
      "Requirement already satisfied: defusedxml in /home/gayathri/torchmri/lib/python3.8/site-packages (from nbconvert<7,>=6.4.5->voila) (0.7.1)\n",
      "Requirement already satisfied: MarkupSafe>=2.0 in /home/gayathri/torchmri/lib/python3.8/site-packages (from nbconvert<7,>=6.4.5->voila) (2.1.1)\n",
      "Requirement already satisfied: mistune<2,>=0.8.1 in /home/gayathri/torchmri/lib/python3.8/site-packages (from nbconvert<7,>=6.4.5->voila) (0.8.4)\n",
      "Requirement already satisfied: bleach in /home/gayathri/torchmri/lib/python3.8/site-packages (from nbconvert<7,>=6.4.5->voila) (5.0.0)\n",
      "Requirement already satisfied: nest-asyncio in /home/gayathri/torchmri/lib/python3.8/site-packages (from nbclient<0.6,>=0.4.0->voila) (1.5.5)\n",
      "Requirement already satisfied: requests in /home/gayathri/torchmri/lib/python3.8/site-packages (from jupyterlab-server<3,>=2.3.0->voila) (2.28.0)\n",
      "Requirement already satisfied: importlib-metadata>=3.6; python_version < \"3.10\" in /home/gayathri/torchmri/lib/python3.8/site-packages (from jupyterlab-server<3,>=2.3.0->voila) (4.11.4)\n",
      "Requirement already satisfied: jsonschema>=3.0.1 in /home/gayathri/torchmri/lib/python3.8/site-packages (from jupyterlab-server<3,>=2.3.0->voila) (4.5.1)\n",
      "Collecting json5\n",
      "  Using cached json5-0.9.8.tar.gz (22 kB)\n",
      "\u001b[31m    ERROR: Command errored out with exit status 1:\n",
      "     command: /home/gayathri/torchmri/bin/python3 -c 'import sys, setuptools, tokenize; sys.argv[0] = '\"'\"'/tmp/pip-install-c5acgluw/json5/setup.py'\"'\"'; __file__='\"'\"'/tmp/pip-install-c5acgluw/json5/setup.py'\"'\"';f=getattr(tokenize, '\"'\"'open'\"'\"', open)(__file__);code=f.read().replace('\"'\"'\\r\\n'\"'\"', '\"'\"'\\n'\"'\"');f.close();exec(compile(code, __file__, '\"'\"'exec'\"'\"'))' egg_info --egg-base /tmp/pip-install-c5acgluw/json5/pip-egg-info\n",
      "         cwd: /tmp/pip-install-c5acgluw/json5/\n",
      "    Complete output (19 lines):\n",
      "    Traceback (most recent call last):\n",
      "      File \"<string>\", line 1, in <module>\n",
      "      File \"/tmp/pip-install-c5acgluw/json5/setup.py\", line 30, in <module>\n",
      "        setup(\n",
      "      File \"/home/gayathri/torchmri/lib/python3.8/site-packages/setuptools/__init__.py\", line 87, in setup\n",
      "        return distutils.core.setup(**attrs)\n",
      "      File \"/home/gayathri/torchmri/lib/python3.8/site-packages/setuptools/_distutils/core.py\", line 139, in setup\n",
      "        _setup_distribution = dist = klass(attrs)\n",
      "      File \"/home/gayathri/torchmri/lib/python3.8/site-packages/setuptools/dist.py\", line 477, in __init__\n",
      "        _Distribution.__init__(\n",
      "      File \"/home/gayathri/torchmri/lib/python3.8/site-packages/setuptools/_distutils/dist.py\", line 275, in __init__\n",
      "        self.finalize_options()\n",
      "      File \"/home/gayathri/torchmri/lib/python3.8/site-packages/setuptools/dist.py\", line 900, in finalize_options\n",
      "        for ep in sorted(loaded, key=by_order):\n",
      "      File \"/home/gayathri/torchmri/lib/python3.8/site-packages/setuptools/dist.py\", line 899, in <lambda>\n",
      "        loaded = map(lambda e: e.load(), filtered)\n",
      "      File \"/home/gayathri/torchmri/lib/python3.8/site-packages/setuptools/_vendor/importlib_metadata/__init__.py\", line 196, in load\n",
      "        return functools.reduce(getattr, attrs, module)\n",
      "    AttributeError: type object 'Distribution' has no attribute '_finalize_feature_opts'\n",
      "    ----------------------------------------\u001b[0m\n",
      "\u001b[31mERROR: Command errored out with exit status 1: python setup.py egg_info Check the logs for full command output.\u001b[0m\n",
      "Note: you may need to restart the kernel to use updated packages.\n"
     ]
    }
   ],
   "source": [
    "pip install voila"
   ]
  },
  {
   "cell_type": "code",
   "execution_count": null,
   "id": "1cf46052",
   "metadata": {},
   "outputs": [],
   "source": []
  }
 ],
 "metadata": {
  "kernelspec": {
   "display_name": "Python 3 (ipykernel)",
   "language": "python",
   "name": "python3"
  },
  "language_info": {
   "codemirror_mode": {
    "name": "ipython",
    "version": 3
   },
   "file_extension": ".py",
   "mimetype": "text/x-python",
   "name": "python",
   "nbconvert_exporter": "python",
   "pygments_lexer": "ipython3",
   "version": "3.8.10"
  }
 },
 "nbformat": 4,
 "nbformat_minor": 5
}
