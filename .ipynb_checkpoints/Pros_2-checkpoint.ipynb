{
 "cells": [
  {
   "cell_type": "markdown",
   "id": "a7c4efbe",
   "metadata": {},
   "source": [
    "## **Import Libraries:**"
   ]
  },
  {
   "cell_type": "code",
   "execution_count": 1,
   "id": "974b2c19",
   "metadata": {
    "ExecuteTime": {
     "end_time": "2022-05-19T05:13:49.378083Z",
     "start_time": "2022-05-19T05:13:47.964518Z"
    }
   },
   "outputs": [
    {
     "ename": "ModuleNotFoundError",
     "evalue": "No module named 'utils'",
     "output_type": "error",
     "traceback": [
      "\u001b[0;31m---------------------------------------------------------------------------\u001b[0m",
      "\u001b[0;31mModuleNotFoundError\u001b[0m                       Traceback (most recent call last)",
      "Input \u001b[0;32mIn [1]\u001b[0m, in \u001b[0;36m<cell line: 6>\u001b[0;34m()\u001b[0m\n\u001b[1;32m      4\u001b[0m \u001b[38;5;28;01mimport\u001b[39;00m \u001b[38;5;21;01msys\u001b[39;00m\n\u001b[1;32m      5\u001b[0m sys\u001b[38;5;241m.\u001b[39mpath\u001b[38;5;241m.\u001b[39minsert(\u001b[38;5;241m0\u001b[39m,\u001b[38;5;124m'\u001b[39m\u001b[38;5;124m/srv/project/APW/Ayantika_codebase/\u001b[39m\u001b[38;5;124m'\u001b[39m)\n\u001b[0;32m----> 6\u001b[0m \u001b[38;5;28;01mimport\u001b[39;00m \u001b[38;5;21;01mutils\u001b[39;00m\u001b[38;5;21;01m.\u001b[39;00m\u001b[38;5;21;01mslice_view\u001b[39;00m \u001b[38;5;28;01mas\u001b[39;00m \u001b[38;5;21;01mslice_view\u001b[39;00m\n",
      "\u001b[0;31mModuleNotFoundError\u001b[0m: No module named 'utils'"
     ]
    }
   ],
   "source": [
    "import ants\n",
    "import SimpleITK as sitk\n",
    "import numpy as np\n",
    "import sys\n",
    "sys.path.insert(0,'/srv/project/APW/Ayantika_codebase/')\n",
    "#/home/gayathri/torchmri/lib/python3.8/site-packages\n",
    "import utils.slice_view as slice_view"
   ]
  },
  {
   "cell_type": "markdown",
   "id": "097a6ee1",
   "metadata": {},
   "source": [
    "## **Load the directory which has DICOM files and convert to NIFTI files:**"
   ]
  },
  {
   "cell_type": "code",
   "execution_count": 2,
   "id": "5f635198",
   "metadata": {
    "ExecuteTime": {
     "end_time": "2022-05-19T05:13:53.675152Z",
     "start_time": "2022-05-19T05:13:53.671005Z"
    }
   },
   "outputs": [],
   "source": [
    "import glob\n",
    "root_path = '/srv/project/APW/gayathri/'\n",
    "link1='manifest-1652357624616/PROSTATEx/ProstateX-0000'\n",
    "link2='ProstateX-0000'"
   ]
  },
  {
   "cell_type": "code",
   "execution_count": 7,
   "id": "5228a90d",
   "metadata": {
    "ExecuteTime": {
     "end_time": "2022-05-19T05:15:21.334899Z",
     "start_time": "2022-05-19T05:15:21.328825Z"
    }
   },
   "outputs": [],
   "source": [
    "def load_dir(t,link):\n",
    "    root_path = '/srv/project/APW/gayathri/'\n",
    "    data_directory=glob.glob(root_path+link+'/**/'+str(t)+'.00**')[0]\n",
    "    series_IDs = sitk.ImageSeriesReader.GetGDCMSeriesIDs(data_directory)\n",
    "    series_file_names = sitk.ImageSeriesReader.GetGDCMSeriesFileNames(data_directory, series_IDs[0])\n",
    "\n",
    "    series_reader = sitk.ImageSeriesReader()\n",
    "    series_reader.SetFileNames(series_file_names)\n",
    "\n",
    "    series_reader.MetaDataDictionaryArrayUpdateOn()\n",
    "    series_reader.LoadPrivateTagsOn()\n",
    "    image3D_sitk= series_reader.Execute()\n",
    "    image3D= sitk.GetArrayFromImage(image3D_sitk)\n",
    "    sitk.WriteImage(image3D_sitk,'./'+str(t)+'_000.nii.gz')\n",
    "    return (image3D_sitk,image3D)\n",
    "    "
   ]
  },
  {
   "cell_type": "markdown",
   "id": "b6bf21c8",
   "metadata": {},
   "source": [
    "## **Displaying Niftii files:**"
   ]
  },
  {
   "cell_type": "code",
   "execution_count": 4,
   "id": "80f7d458",
   "metadata": {
    "ExecuteTime": {
     "end_time": "2022-05-19T05:14:05.843719Z",
     "start_time": "2022-05-19T05:14:05.839502Z"
    }
   },
   "outputs": [],
   "source": [
    "def display(link):\n",
    "    slv1 = slice_view.slicer(ants.image_read(link))\n",
    "    slv1.slicer_view()\n",
    "    return"
   ]
  },
  {
   "cell_type": "markdown",
   "id": "b8986156",
   "metadata": {},
   "source": [
    "##  **Note:**\n",
    "* T2W - path=4.00**,t=4\n",
    "* ADC-path=7.00**,t=7\n",
    "* bvalue-path=8.00**,t=8\n",
    "* PD value-path=9.00**,t=9\n",
    "* DCE-path(t=10sec)=10.00**,t=10\n",
    "* DCE-path(t=25sec)=25.00**,t=25\n",
    "* DCE-path(t=40sec)=40.00**,t=40"
   ]
  },
  {
   "cell_type": "code",
   "execution_count": 21,
   "id": "59c3b8a8",
   "metadata": {
    "ExecuteTime": {
     "end_time": "2022-05-19T06:03:06.623096Z",
     "start_time": "2022-05-19T06:03:06.065602Z"
    }
   },
   "outputs": [],
   "source": [
    "img3D_sitk_t2,img_t2=load_dir(4,link1)\n",
    "img3D_sitk_adc,img_adc=load_dir(7,link1)\n",
    "img3D_sitk_b,img_b=load_dir(8,link1)\n",
    "img3D_sitk_pd,img_pd=load_dir(9,link1)\n",
    "img3D_sitk_dce_10,img_dce_10=load_dir(10,link1)\n",
    "img3D_sitk_dce_25,img_dce_10=load_dir(25,link1)\n",
    "img3D_sitk_dce_40,img_dce_10=load_dir(40,link1)"
   ]
  },
  {
   "cell_type": "code",
   "execution_count": 23,
   "id": "520d1db9",
   "metadata": {
    "ExecuteTime": {
     "end_time": "2022-05-19T06:03:27.045055Z",
     "start_time": "2022-05-19T06:03:25.862312Z"
    }
   },
   "outputs": [
    {
     "data": {
      "application/vnd.jupyter.widget-view+json": {
       "model_id": "044c8bbf41244f6a818e608aac120494",
       "version_major": 2,
       "version_minor": 0
      },
      "text/plain": [
       "interactive(children=(Dropdown(description='slice_view', options=('x', 'y', 'z'), value='x'), IntSlider(value=…"
      ]
     },
     "metadata": {},
     "output_type": "display_data"
    },
    {
     "data": {
      "application/vnd.jupyter.widget-view+json": {
       "model_id": "ef55fee7d0f042379edd96806dcf4d02",
       "version_major": 2,
       "version_minor": 0
      },
      "text/plain": [
       "interactive(children=(Dropdown(description='slice_view', options=('x', 'y', 'z'), value='x'), IntSlider(value=…"
      ]
     },
     "metadata": {},
     "output_type": "display_data"
    },
    {
     "data": {
      "application/vnd.jupyter.widget-view+json": {
       "model_id": "a4423e7e73684db480a10779ebab79cd",
       "version_major": 2,
       "version_minor": 0
      },
      "text/plain": [
       "interactive(children=(Dropdown(description='slice_view', options=('x', 'y', 'z'), value='x'), IntSlider(value=…"
      ]
     },
     "metadata": {},
     "output_type": "display_data"
    },
    {
     "data": {
      "application/vnd.jupyter.widget-view+json": {
       "model_id": "d8f10fa513fb435b961ab232b37050a6",
       "version_major": 2,
       "version_minor": 0
      },
      "text/plain": [
       "interactive(children=(Dropdown(description='slice_view', options=('x', 'y', 'z'), value='x'), IntSlider(value=…"
      ]
     },
     "metadata": {},
     "output_type": "display_data"
    },
    {
     "data": {
      "application/vnd.jupyter.widget-view+json": {
       "model_id": "110b966bd0044b81a942f38203f32f41",
       "version_major": 2,
       "version_minor": 0
      },
      "text/plain": [
       "interactive(children=(Dropdown(description='slice_view', options=('x', 'y', 'z'), value='x'), IntSlider(value=…"
      ]
     },
     "metadata": {},
     "output_type": "display_data"
    },
    {
     "data": {
      "application/vnd.jupyter.widget-view+json": {
       "model_id": "5286ea59d9364e5f8f01b0d9805f5dd3",
       "version_major": 2,
       "version_minor": 0
      },
      "text/plain": [
       "interactive(children=(Dropdown(description='slice_view', options=('x', 'y', 'z'), value='x'), IntSlider(value=…"
      ]
     },
     "metadata": {},
     "output_type": "display_data"
    },
    {
     "data": {
      "application/vnd.jupyter.widget-view+json": {
       "model_id": "e26ff6a7d9904653aeeb9010e345e016",
       "version_major": 2,
       "version_minor": 0
      },
      "text/plain": [
       "interactive(children=(Dropdown(description='slice_view', options=('x', 'y', 'z'), value='x'), IntSlider(value=…"
      ]
     },
     "metadata": {},
     "output_type": "display_data"
    }
   ],
   "source": [
    "display('./4_000.nii.gz')\n",
    "display('./7_000.nii.gz')\n",
    "display('./8_000.nii.gz')\n",
    "display('./9_000.nii.gz')\n",
    "display('./10_000.nii.gz')\n",
    "display('./25_000.nii.gz')\n",
    "display('./40_000.nii.gz')"
   ]
  },
  {
   "cell_type": "markdown",
   "id": "8557f7ed",
   "metadata": {
    "ExecuteTime": {
     "end_time": "2022-05-18T14:54:28.183858Z",
     "start_time": "2022-05-18T14:54:28.154165Z"
    }
   },
   "source": [
    "## **Registration:**"
   ]
  },
  {
   "cell_type": "code",
   "execution_count": 15,
   "id": "906dd0e0",
   "metadata": {
    "ExecuteTime": {
     "end_time": "2022-05-19T05:50:23.225427Z",
     "start_time": "2022-05-19T05:50:23.219584Z"
    }
   },
   "outputs": [],
   "source": [
    "def Reg(t,fixed_img,moving_img,transform):\n",
    "    #fix=ants.image_read('./t2_000.nii.gz')\n",
    "    fix=ants.image_read(fixed_img)\n",
    "    mov=ants.image_read(moving_img)\n",
    "    registered_img=ants.registration(fixed =fix , moving = mov,type_of_transform = transform)\n",
    "    Reg_path = \"./reg\"+t+\"_000.nii.gz\"\n",
    "    registered_img['warpedmovout'].to_filename(Reg_path)\n",
    "    return"
   ]
  },
  {
   "cell_type": "code",
   "execution_count": 24,
   "id": "67ef6e24",
   "metadata": {
    "ExecuteTime": {
     "end_time": "2022-05-19T06:05:30.857718Z",
     "start_time": "2022-05-19T06:05:22.380533Z"
    }
   },
   "outputs": [],
   "source": [
    "Reg('adc','./4_000.nii.gz','./7_000.nii.gz','Affine')\n",
    "Reg('b','./4_000.nii.gz','./8_000.nii.gz','Affine')\n",
    "Reg('pd','./4_000.nii.gz','./9_000.nii.gz','Affine')\n",
    "Reg('dce10','./4_000.nii.gz','./10_000.nii.gz','Affine')\n",
    "Reg('dce25','./4_000.nii.gz','./25_000.nii.gz','Affine')\n",
    "Reg('dce40','./4_000.nii.gz','./40_000.nii.gz','Affine')"
   ]
  },
  {
   "cell_type": "code",
   "execution_count": 25,
   "id": "4ee37880",
   "metadata": {
    "ExecuteTime": {
     "end_time": "2022-05-19T06:05:43.733407Z",
     "start_time": "2022-05-19T06:05:42.234470Z"
    }
   },
   "outputs": [
    {
     "data": {
      "application/vnd.jupyter.widget-view+json": {
       "model_id": "df7eef0684c441f1a2aef17159e8f9e7",
       "version_major": 2,
       "version_minor": 0
      },
      "text/plain": [
       "interactive(children=(Dropdown(description='slice_view', options=('x', 'y', 'z'), value='x'), IntSlider(value=…"
      ]
     },
     "metadata": {},
     "output_type": "display_data"
    },
    {
     "data": {
      "application/vnd.jupyter.widget-view+json": {
       "model_id": "4f678b1af92941179073908ff2c220a4",
       "version_major": 2,
       "version_minor": 0
      },
      "text/plain": [
       "interactive(children=(Dropdown(description='slice_view', options=('x', 'y', 'z'), value='x'), IntSlider(value=…"
      ]
     },
     "metadata": {},
     "output_type": "display_data"
    },
    {
     "data": {
      "application/vnd.jupyter.widget-view+json": {
       "model_id": "a8cc514997694a9ab60975e455d1ec89",
       "version_major": 2,
       "version_minor": 0
      },
      "text/plain": [
       "interactive(children=(Dropdown(description='slice_view', options=('x', 'y', 'z'), value='x'), IntSlider(value=…"
      ]
     },
     "metadata": {},
     "output_type": "display_data"
    },
    {
     "data": {
      "application/vnd.jupyter.widget-view+json": {
       "model_id": "6e17f2ed099d4314a692fa40d8c08d18",
       "version_major": 2,
       "version_minor": 0
      },
      "text/plain": [
       "interactive(children=(Dropdown(description='slice_view', options=('x', 'y', 'z'), value='x'), IntSlider(value=…"
      ]
     },
     "metadata": {},
     "output_type": "display_data"
    },
    {
     "data": {
      "application/vnd.jupyter.widget-view+json": {
       "model_id": "f91ce4a756c64aff80958ea004c4481f",
       "version_major": 2,
       "version_minor": 0
      },
      "text/plain": [
       "interactive(children=(Dropdown(description='slice_view', options=('x', 'y', 'z'), value='x'), IntSlider(value=…"
      ]
     },
     "metadata": {},
     "output_type": "display_data"
    },
    {
     "data": {
      "application/vnd.jupyter.widget-view+json": {
       "model_id": "a8d99d9a45704cfba0d7db025a89f995",
       "version_major": 2,
       "version_minor": 0
      },
      "text/plain": [
       "interactive(children=(Dropdown(description='slice_view', options=('x', 'y', 'z'), value='x'), IntSlider(value=…"
      ]
     },
     "metadata": {},
     "output_type": "display_data"
    }
   ],
   "source": [
    "display('./regadc_000.nii.gz')\n",
    "display('./regb_000.nii.gz')\n",
    "display('./regpd_000.nii.gz')\n",
    "display('./regdce10_000.nii.gz')\n",
    "display('./regdce25_000.nii.gz')\n",
    "display('./regdce40_000.nii.gz')"
   ]
  },
  {
   "cell_type": "code",
   "execution_count": null,
   "id": "3da789d5",
   "metadata": {
    "ExecuteTime": {
     "end_time": "2022-05-18T14:55:07.087420Z",
     "start_time": "2022-05-18T14:55:06.933700Z"
    }
   },
   "outputs": [],
   "source": []
  },
  {
   "cell_type": "code",
   "execution_count": null,
   "id": "1fce0659",
   "metadata": {
    "ExecuteTime": {
     "end_time": "2022-05-18T14:46:25.473533Z",
     "start_time": "2022-05-18T14:46:25.456073Z"
    }
   },
   "outputs": [],
   "source": []
  },
  {
   "cell_type": "code",
   "execution_count": null,
   "id": "4c420629",
   "metadata": {
    "ExecuteTime": {
     "end_time": "2022-05-18T14:55:49.743725Z",
     "start_time": "2022-05-18T14:55:49.671587Z"
    }
   },
   "outputs": [],
   "source": []
  },
  {
   "cell_type": "code",
   "execution_count": null,
   "id": "23b38795",
   "metadata": {},
   "outputs": [],
   "source": [
    "# t2_nii=ants.image_read('./t2_000.nii.gz')\n",
    "# slv2 = slice_view.slicer(ants.image_read('./reg1.nii.gz'))\n",
    "# slv2.slicer_view()\n",
    "# Reg1=ants.registration(fixed =t2_nii ,moving = adc_nii,type_of_transform = 'Affine')\n",
    "# Reg1_path = \"./reg1.nii.gz\"\n",
    "# Reg1['warpedmovout'].to_filename(Reg1_path)"
   ]
  }
 ],
 "metadata": {
  "kernelspec": {
   "display_name": "Python 3 (ipykernel)",
   "language": "python",
   "name": "python3"
  },
  "language_info": {
   "codemirror_mode": {
    "name": "ipython",
    "version": 3
   },
   "file_extension": ".py",
   "mimetype": "text/x-python",
   "name": "python",
   "nbconvert_exporter": "python",
   "pygments_lexer": "ipython3",
   "version": "3.8.10"
  }
 },
 "nbformat": 4,
 "nbformat_minor": 5
}
